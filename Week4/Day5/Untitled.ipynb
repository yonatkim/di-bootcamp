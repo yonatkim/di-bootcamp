{
 "cells": [
  {
   "cell_type": "code",
   "execution_count": 1,
   "metadata": {},
   "outputs": [],
   "source": [
    "import pandas as pd\n",
    "import re"
   ]
  },
  {
   "cell_type": "code",
   "execution_count": 44,
   "metadata": {},
   "outputs": [],
   "source": [
    "FILE = \"data.csv\"\n",
    "COLUMNS = ['url', 'comment']\n",
    "SEEDS = ['enemy state', 'jewish control', 'hardcore zionist', 'communist jews', \n",
    "         'zionist occupiers', 'undoing zionism', 'jew bullshit', 'gaslighting', \n",
    "         'jews pharisees', 'zionism cancer', 'zionist terrorist', 'hissing', \n",
    "         'zionism nazism', 'zionist division', 'anti-zionist jew', 'gas chambers' \n",
    "         'zionist enemy', 'apartheid', 'hate jews', 'white jews', 'gaza genocide',\n",
    "         'jewish identity', 'true biblical jews', 'mind control', 'smear israel', 'libel',\n",
    "         'jews invaded', 'persecuted palestinians', 'ethnic cleansing of palestinians', \n",
    "         'war crimes', 'buys politicians', 'fuck israel', 'wolf jew']\n",
    "IHRA = {'1.0': 'hatred towards jews',\n",
    "        '3.1.1': 'killing or harming jews',\n",
    "        '3.1.2': 'demonising jews e.g. power of jews in media, economy, governments of institutions',\n",
    "        '3.1.3': 'accusing all jews of being responsible for real or imagined wrongdoing',\n",
    "        '3.1.4': 'denying the holocaust e.g. gas chambers',\n",
    "        '3.1.5': 'accusing israel or jews of exaggerating the holocaust',\n",
    "        '3.1.6': 'accusing jews of being more loyal to israel than the country where they reside',\n",
    "        '3.1.7': 'claiming the existence of israel is a racist endeavour',\n",
    "        '3.1.8': 'applying double standards to israel, standards not demanded of any other country',\n",
    "        '3.1.9': 'classic antisemetic symbols e.g. blood libel',\n",
    "        '3.1.10': 'comparing israeli policy nazis',\n",
    "        '3.1.11': 'hold all jews responsible for the actions of israel'}\n",
    "SEED_IHRA_MAP = {'1.0': ['hissing', 'hate jew', 'white jew', 'anti-zion jew', 'wolf jew'],\n",
    "                 '3.1.1': ['enemy state', 'smear israel', 'jew invaded'],\n",
    "                 '3.1.2': ['jew control', 'buy politicians', 'gaslighting'],\n",
    "                 '3.1.3': ['gaza genocide', 'jew bullshit'],\n",
    "                 '3.1.4': ['gas chambers', 'jew bullshit'],\n",
    "                 '3.1.5': ['playing victim', 'victimhood'],\n",
    "                 '3.1.6': ['zion division', 'jew identity'],\n",
    "                 '3.1.7': ['apartheid', 'hardcore zion', 'zion enemy', 'smear israel', 'fuck israel'],\n",
    "                 '3.1.8': ['persecuted palestinians', 'zionist occupiers', 'undoing zionisim'],\n",
    "                 '3.1.9': ['libel', 'wolf jew', 'jew pharisee', 'true biblical jew'],\n",
    "                 '3.1.10': ['zion nazi'],\n",
    "                 '3.1.11': ['communist jew', 'jew invaded']}\n"
   ]
  },
  {
   "cell_type": "code",
   "execution_count": 42,
   "metadata": {},
   "outputs": [
    {
     "data": {
      "text/html": [
       "<div>\n",
       "<style scoped>\n",
       "    .dataframe tbody tr th:only-of-type {\n",
       "        vertical-align: middle;\n",
       "    }\n",
       "\n",
       "    .dataframe tbody tr th {\n",
       "        vertical-align: top;\n",
       "    }\n",
       "\n",
       "    .dataframe thead th {\n",
       "        text-align: right;\n",
       "    }\n",
       "</style>\n",
       "<table border=\"1\" class=\"dataframe\">\n",
       "  <thead>\n",
       "    <tr style=\"text-align: right;\">\n",
       "      <th></th>\n",
       "      <th>url</th>\n",
       "      <th>comment</th>\n",
       "    </tr>\n",
       "    <tr>\n",
       "      <th>0</th>\n",
       "      <th></th>\n",
       "      <th></th>\n",
       "    </tr>\n",
       "  </thead>\n",
       "  <tbody>\n",
       "    <tr>\n",
       "      <th>1</th>\n",
       "      <td>https://twitter.com/aaron_leib/status/16258862...</td>\n",
       "      <td>At last night's Surfside commission meeting, D...</td>\n",
       "    </tr>\n",
       "    <tr>\n",
       "      <th>2</th>\n",
       "      <td>https://twitter.com/abierkhatib/status/1632588...</td>\n",
       "      <td>Every time I listen to Israeli historian Ilan ...</td>\n",
       "    </tr>\n",
       "    <tr>\n",
       "      <th>3</th>\n",
       "      <td>https://twitter.com/TheCradleMedia/status/1644...</td>\n",
       "      <td>Israel bombs Lebanon and Gaza in response to d...</td>\n",
       "    </tr>\n",
       "    <tr>\n",
       "      <th>4</th>\n",
       "      <td>https://twitter.com/intifada/status/1620423627...</td>\n",
       "      <td>Five applications in six months were held up “...</td>\n",
       "    </tr>\n",
       "    <tr>\n",
       "      <th>5</th>\n",
       "      <td>https://twitter.com/TameeOliveFern/status/1770...</td>\n",
       "      <td>The Washington Post has written a riddle to av...</td>\n",
       "    </tr>\n",
       "  </tbody>\n",
       "</table>\n",
       "</div>"
      ],
      "text/plain": [
       "                                                 url  \\\n",
       "0                                                      \n",
       "1  https://twitter.com/aaron_leib/status/16258862...   \n",
       "2  https://twitter.com/abierkhatib/status/1632588...   \n",
       "3  https://twitter.com/TheCradleMedia/status/1644...   \n",
       "4  https://twitter.com/intifada/status/1620423627...   \n",
       "5  https://twitter.com/TameeOliveFern/status/1770...   \n",
       "\n",
       "                                             comment  \n",
       "0                                                     \n",
       "1  At last night's Surfside commission meeting, D...  \n",
       "2  Every time I listen to Israeli historian Ilan ...  \n",
       "3  Israel bombs Lebanon and Gaza in response to d...  \n",
       "4  Five applications in six months were held up “...  \n",
       "5  The Washington Post has written a riddle to av...  "
      ]
     },
     "execution_count": 42,
     "metadata": {},
     "output_type": "execute_result"
    }
   ],
   "source": [
    "data = pd.read_csv(FILE, header=None, index_col=0)\n",
    "data.columns = COLUMNS\n",
    "data.head()"
   ]
  },
  {
   "cell_type": "code",
   "execution_count": 43,
   "metadata": {},
   "outputs": [
    {
     "name": "stdout",
     "output_type": "stream",
     "text": [
      "{'apartheid': 'Those Israelis (you know, the Jewish ones), they really suck at apartheid…', 'war crimes': 'Metro FM is a national radio station in that is owned by the SABC. SABC is funded, in part, by public funding, grants from the state etc.. SA has filed a case against Israel, for committing genocide and war crimes. Inviting an apartheid zionist is tantamount to TREASON.', 'enemy state': 'Israel is starving Gazans!! Yea, no. Wanna take a wild guess how much food and supplies Israel has sent into Gaza, an enemy state I might add, since the beginning of the war? Go ahead, guess. I’ll wait. Have a number? 218,000 TONS of food. TONS! ', 'jewish control': 'Any rw figure who refuses to:🔻 Denounce Israel🔻 Acknowledge jewish control of our institutions and governments🔻 Admit the jews seek White genocide Is not to be trusted and should be shunned and ridiculed We can’t let these people speak for us anymore or we’re boomers 2.0', 'jew bullshit': 'Sigmund Freud, how many of you had to study this fuckhead in college. Waste of your time and money. For what, more jew bullshit. How did knowledge of this drug addict help your life? Jew parchment?', 'gaslighting': \"Jews: write a bunch of books expressing their hatred for White people. Me: posts a collage of those books. Jews: stop being such a hateful antisemite and making this about race. Mind you, I didn't write the books. I simply wrote a post about the books. I didn't make anything about race, they did by writing these books about White people. I’m tired of these games and I refuse to play them, so take that gaslighting elsewhere.\", 'hissing': 'Hissing is now apparently anti-Semitic too!🐍 On 29 February the latest Zionist overreach claimed that “hissing” at a council meeting in Newham East London was an act of ant-Semitism since snakes, which are among those creatures that hiss, have been used in anti-Jewish propaganda. Three socialist activists were later arrested, at midnight, for “racial harassment” under the Public Order Act in a shameful misuse of police time and resources.  They deny any hissing! The councillor, Josh Garfield, denounced the alleged hissing as an attempt to bully him out of public life as a result of his “ethnicity”. The pathetic level of the victimhood is astounding. Garfield is of course a card-carrying Zionist being a member of the National Executive of the racist Jewish Labour Movement, which  - as everyone surely knows by now - is formally affiliated to the Zionist movement #DismantleZionism #ItWasAScam - and still is!', 'mind control': 'the ONLY intelligent jew is a non-observant jew as they have not had their mind fucked over by talmudic (rabbinic = pharisee) mind control. Debate amongst yourselves as my opinion is already established. If you do the pharisee rituals of the talmud, you are choosing to live under mind control and are willfully stupid.', 'libel': \"🔷I don't think at all that what's happening in Gaza is Genocide, I think it's an unbelievable smear against Israel🔷Gaza also has a border with Egypt. Why do you not mention Egypt?🔷I'm not misinforming your viewers. I'm informing them because you are not. @DouglasKMurray rips South African anchor @janedutton to shreds on her show Eyewitness News, after she makes several false and libelous claims about Israel. It's worth watching every minute of this video⤵️ Full interview: https://youtube.com/watch?v=Flggg8Fyzu8\"}\n"
     ]
    }
   ],
   "source": [
    "possible_violations = {}\n",
    "#words = ' '.join(data['comment'])\n",
    "#print(words)\n",
    "for comment in data['comment']:\n",
    "    for seed in SEEDS:\n",
    "        if seed in comment:\n",
    "            possible_violations.update({seed: comment})\n",
    "print(possible_violations)"
   ]
  },
  {
   "cell_type": "code",
   "execution_count": 49,
   "metadata": {},
   "outputs": [
    {
     "name": "stdout",
     "output_type": "stream",
     "text": [
      "3.1.7 apartheid\n",
      "3.1.1 enemy state\n",
      "3.1.3 jew bullshit\n",
      "3.1.4 jew bullshit\n",
      "3.1.2 gaslighting\n",
      "1.0 hissing\n",
      "3.1.9 libel\n"
     ]
    },
    {
     "data": {
      "text/plain": [
       "{'3.1.7 apartheid': 'Those Israelis (you know, the Jewish ones), they really suck at apartheid…',\n",
       " '3.1.1 enemy state': 'Israel is starving Gazans!! Yea, no. Wanna take a wild guess how much food and supplies Israel has sent into Gaza, an enemy state I might add, since the beginning of the war? Go ahead, guess. I’ll wait. Have a number? 218,000 TONS of food. TONS! ',\n",
       " '3.1.3 jew bullshit': 'Sigmund Freud, how many of you had to study this fuckhead in college. Waste of your time and money. For what, more jew bullshit. How did knowledge of this drug addict help your life? Jew parchment?',\n",
       " '3.1.4 jew bullshit': 'Sigmund Freud, how many of you had to study this fuckhead in college. Waste of your time and money. For what, more jew bullshit. How did knowledge of this drug addict help your life? Jew parchment?',\n",
       " '3.1.2 gaslighting': \"Jews: write a bunch of books expressing their hatred for White people. Me: posts a collage of those books. Jews: stop being such a hateful antisemite and making this about race. Mind you, I didn't write the books. I simply wrote a post about the books. I didn't make anything about race, they did by writing these books about White people. I’m tired of these games and I refuse to play them, so take that gaslighting elsewhere.\",\n",
       " '1.0 hissing': 'Hissing is now apparently anti-Semitic too!🐍 On 29 February the latest Zionist overreach claimed that “hissing” at a council meeting in Newham East London was an act of ant-Semitism since snakes, which are among those creatures that hiss, have been used in anti-Jewish propaganda. Three socialist activists were later arrested, at midnight, for “racial harassment” under the Public Order Act in a shameful misuse of police time and resources.  They deny any hissing! The councillor, Josh Garfield, denounced the alleged hissing as an attempt to bully him out of public life as a result of his “ethnicity”. The pathetic level of the victimhood is astounding. Garfield is of course a card-carrying Zionist being a member of the National Executive of the racist Jewish Labour Movement, which  - as everyone surely knows by now - is formally affiliated to the Zionist movement #DismantleZionism #ItWasAScam - and still is!',\n",
       " '3.1.9 libel': \"🔷I don't think at all that what's happening in Gaza is Genocide, I think it's an unbelievable smear against Israel🔷Gaza also has a border with Egypt. Why do you not mention Egypt?🔷I'm not misinforming your viewers. I'm informing them because you are not. @DouglasKMurray rips South African anchor @janedutton to shreds on her show Eyewitness News, after she makes several false and libelous claims about Israel. It's worth watching every minute of this video⤵️ Full interview: https://youtube.com/watch?v=Flggg8Fyzu8\"}"
      ]
     },
     "execution_count": 49,
     "metadata": {},
     "output_type": "execute_result"
    }
   ],
   "source": [
    "categories = {}\n",
    "for key,value in possible_violations.items():\n",
    "    for k,v in SEED_IHRA_MAP.items():\n",
    "        if key in v:\n",
    "            print(f\"{k} {key}\")\n",
    "            categories.update({f\"{k} {key}\": f\"{value}\"})\n",
    "categories"
   ]
  },
  {
   "cell_type": "code",
   "execution_count": null,
   "metadata": {},
   "outputs": [],
   "source": []
  }
 ],
 "metadata": {
  "kernelspec": {
   "display_name": "Python 3",
   "language": "python",
   "name": "python3"
  },
  "language_info": {
   "codemirror_mode": {
    "name": "ipython",
    "version": 3
   },
   "file_extension": ".py",
   "mimetype": "text/x-python",
   "name": "python",
   "nbconvert_exporter": "python",
   "pygments_lexer": "ipython3",
   "version": "3.8.5"
  }
 },
 "nbformat": 4,
 "nbformat_minor": 4
}
